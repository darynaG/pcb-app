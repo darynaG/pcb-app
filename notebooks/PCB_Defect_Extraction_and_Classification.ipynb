{
 "cells": [
  {
   "cell_type": "markdown",
   "metadata": {
    "id": "hCe9JGTtdTa4",
    "colab_type": "text"
   },
   "source": [
    "# PCB Defect Image Extraction"
   ]
  },
  {
   "cell_type": "markdown",
   "metadata": {
    "id": "JgMH7DeRdhs2",
    "colab_type": "text"
   },
   "source": [
    "### Install tetryonai"
   ]
  },
  {
   "cell_type": "code",
   "execution_count": 0,
   "metadata": {
    "id": "8wlUFeR3dR2S",
    "colab_type": "code",
    "colab": {}
   },
   "outputs": [],
   "source": [
    "!pip install git+https://github.com/sean-mcclure/tetryon_ai.git"
   ]
  },
  {
   "cell_type": "code",
   "execution_count": 0,
   "metadata": {
    "id": "AyTxf2OrdZg2",
    "colab_type": "code",
    "colab": {}
   },
   "outputs": [],
   "source": [
    "from tetryonai.main import *"
   ]
  },
  {
   "cell_type": "markdown",
   "metadata": {
    "id": "h-Oa2L8QcLTW",
    "colab_type": "text"
   },
   "source": [
    "###Make the following folders:\n",
    "\n",
    "*   difference_img\n",
    "*   extracted_defects\n",
    "*   hold_out "
   ]
  },
  {
   "cell_type": "code",
   "execution_count": 0,
   "metadata": {
    "id": "J0-RghhRhevh",
    "colab_type": "code",
    "colab": {}
   },
   "outputs": [],
   "source": [
    "directory(**{\n",
    "    \"choice\" : \"make\",\n",
    "    \"directory_path\" : \"difference_img\"\n",
    "})\n",
    "\n",
    "directory(**{\n",
    "    \"choice\" : \"make\",\n",
    "    \"directory_path\" : \"extracted_defects\"\n",
    "})\n",
    "\n",
    "directory(**{\n",
    "    \"choice\" : \"make\",\n",
    "    \"directory_path\" : \"hold_out\"\n",
    "})"
   ]
  },
  {
   "cell_type": "markdown",
   "metadata": {
    "id": "6vA7XEG8cpBY",
    "colab_type": "text"
   },
   "source": [
    "###Clone PCB Dataset"
   ]
  },
  {
   "cell_type": "code",
   "execution_count": 0,
   "metadata": {
    "id": "5qwXg4xQcoMT",
    "colab_type": "code",
    "outputId": "5259f4b7-41b8-4355-9a0f-5299f1ebefa5",
    "colab": {
     "base_uri": "https://localhost:8080/",
     "height": 102.0
    }
   },
   "outputs": [
    {
     "name": "stdout",
     "output_type": "stream",
     "text": [
      "Cloning into 'DeepPCB'...\n",
      "remote: Enumerating objects: 4753, done.\u001b[K\n",
      "remote: Total 4753 (delta 0), reused 0 (delta 0), pack-reused 4753\u001b[K\n",
      "Receiving objects: 100% (4753/4753), 85.81 MiB | 37.41 MiB/s, done.\n",
      "Resolving deltas: 100% (191/191), done.\n"
     ]
    }
   ],
   "source": [
    "!git clone https://github.com/tangsanli5201/DeepPCB.git"
   ]
  },
  {
   "cell_type": "markdown",
   "metadata": {
    "id": "W-wkvVHec-YN",
    "colab_type": "text"
   },
   "source": [
    "### Read in PCB Defect Images (temp and test)"
   ]
  },
  {
   "cell_type": "code",
   "execution_count": 0,
   "metadata": {
    "id": "vs5JMS8BcvWi",
    "colab_type": "code",
    "colab": {}
   },
   "outputs": [],
   "source": [
    "import glob\n",
    "\n",
    "image_path = 'DeepPCB/PCBData/'\n",
    "temp_pattern = '/*temp.jpg'\n",
    "test_pattern = '/*test.jpg'\n",
    "\n",
    "temps_and_tests = {}\n",
    "\n",
    "for folder in os.listdir(image_path):\n",
    "    full_path = image_path + folder + '/' + folder.replace('group', '')\n",
    "    temps = glob.glob(full_path + '/' + temp_pattern)\n",
    "    tests = glob.glob(full_path + '/' + test_pattern)\n",
    "    inner = {}\n",
    "    inner['temps'] = temps\n",
    "    inner['tests'] = tests\n",
    "    temps_and_tests[folder] = inner"
   ]
  },
  {
   "cell_type": "markdown",
   "metadata": {
    "id": "jvjb0wPUdX2C",
    "colab_type": "text"
   },
   "source": [
    "### Create Hold Out Dataset with 20% test/temp images, and difference the rest"
   ]
  },
  {
   "cell_type": "code",
   "execution_count": 0,
   "metadata": {
    "id": "w-XAnnvodHoq",
    "colab_type": "code",
    "colab": {}
   },
   "outputs": [],
   "source": [
    "split_percentage = round(len(temps_and_tests['group00041']['temps']) * 0.2)\n",
    "\n",
    "for index, whatever in enumerate(temps_and_tests['group00041']['temps']):\n",
    "    root_img_name = temps_and_tests['group00041']['temps'][index].replace('_temp.jpg', '')\n",
    "    temp_file_path = root_img_name  + '_temp.jpg'\n",
    "    test_file_path = root_img_name + '_test.jpg'\n",
    "    if(index < split_percentage):\n",
    "      copy_files(**{\n",
    "          \"file_paths\" : [temp_file_path],\n",
    "          \"target_directory\" : \"hold_out/\"\n",
    "      })\n",
    "      copy_files(**{\n",
    "          \"file_paths\" : [test_file_path],\n",
    "          \"target_directory\" : \"hold_out/\"\n",
    "      })\n",
    "    else:\n",
    "      subtract_images(**{\n",
    "          \"image_path_1\" : temp_file_path,\n",
    "          \"image_path_2\" : test_file_path,\n",
    "          \"write_path\" : \"difference_img/diff_image_\" + str(index) + \".png\"\n",
    "      })"
   ]
  },
  {
   "cell_type": "markdown",
   "metadata": {
    "id": "4J9K634pp5oJ",
    "colab_type": "text"
   },
   "source": [
    "### Extract the defects from all differenced images"
   ]
  },
  {
   "cell_type": "code",
   "execution_count": 0,
   "metadata": {
    "id": "1F2S0QKcqKIz",
    "colab_type": "code",
    "colab": {}
   },
   "outputs": [],
   "source": [
    "all_differenced_images = os.listdir('difference_img')"
   ]
  },
  {
   "cell_type": "code",
   "execution_count": 0,
   "metadata": {
    "id": "G2p9LwLweGYL",
    "colab_type": "code",
    "colab": {}
   },
   "outputs": [],
   "source": [
    "for index, filename in enumerate(all_differenced_images):\n",
    "    os.mkdir(\"extracted_defects/extracts_\" + str(index))\n",
    "    this_write_path = \"extracted_defects/extracts_\" + str(index) + \"/\"\n",
    "    extract_contours_from_image(**{\n",
    "        \"image_path\" : \"difference_img/\" + filename,\n",
    "        \"write_path\" : this_write_path,\n",
    "        \"hsv_lower\" : [0,150,50],\n",
    "        \"hsv_upper\" : [10,255,255]\n",
    "    })"
   ]
  },
  {
   "cell_type": "markdown",
   "metadata": {
    "id": "EUhd88k2x-PI",
    "colab_type": "text"
   },
   "source": [
    "### Combine extracted images into single directory"
   ]
  },
  {
   "cell_type": "code",
   "execution_count": 0,
   "metadata": {
    "id": "-iVrsUXdyCTt",
    "colab_type": "code",
    "colab": {}
   },
   "outputs": [],
   "source": [
    "directory(**{\n",
    "    \"choice\" : \"make\",\n",
    "    \"directory_path\" : \"all_extracts\"\n",
    "})"
   ]
  },
  {
   "cell_type": "code",
   "execution_count": 0,
   "metadata": {
    "id": "lWMihNwHyCWI",
    "colab_type": "code",
    "colab": {}
   },
   "outputs": [],
   "source": [
    "cnt=0\n",
    "for dirpath, dirs, files in os.walk(\"extracted_defects\"):\n",
    "    for index, filename in enumerate(files):\n",
    "        if filename.endswith(\".png\"):\n",
    "            cnt += 1            \n",
    "            move_files(**{\n",
    "                \"file_paths\" : [dirpath + \"/\" + filename],\n",
    "                \"target_directory\" : \"all_extracts/extract_\" + str(cnt) + \".png\"\n",
    "            })"
   ]
  },
  {
   "cell_type": "markdown",
   "metadata": {
    "id": "Lv-W_WEs4Hcz",
    "colab_type": "text"
   },
   "source": [
    "### Zip all extracted defect images \n",
    "#### Use for labelling in Defect Turker"
   ]
  },
  {
   "cell_type": "code",
   "execution_count": 0,
   "metadata": {
    "id": "8Q7RBrXyzegd",
    "colab_type": "code",
    "colab": {}
   },
   "outputs": [],
   "source": [
    "!zip -r /content/extracted_defects.zip /content/all_extracts/"
   ]
  },
  {
   "cell_type": "markdown",
   "metadata": {
    "id": "Q-6I4zBO4VRt",
    "colab_type": "text"
   },
   "source": [
    "### Create JSON file for defect turker"
   ]
  },
  {
   "cell_type": "code",
   "execution_count": 0,
   "metadata": {
    "id": "gGWUihrXzej9",
    "colab_type": "code",
    "colab": {}
   },
   "outputs": [],
   "source": [
    "import json\n",
    "\n",
    "file_names_and_sizes = {}\n",
    "file_names = os.listdir('all_extracts/')\n",
    "\n",
    "for index, file in enumerate(file_names):\n",
    "  file_names_and_sizes[file_names[index]] = os.path.getsize('all_extracts/' + file)"
   ]
  },
  {
   "cell_type": "markdown",
   "metadata": {
    "id": "LJMsE9R-4e-d",
    "colab_type": "text"
   },
   "source": [
    "### Remove any image paths with sizes 0\n",
    "#### Already taken care of by using tetryonai's contour function, but keeping here for others to use if needed"
   ]
  },
  {
   "cell_type": "code",
   "execution_count": 0,
   "metadata": {
    "id": "d1nD6JJ0zeix",
    "colab_type": "code",
    "colab": {}
   },
   "outputs": [],
   "source": [
    "file_names_and_sizes = {k: v for k, v in file_names_and_sizes.items() if v != 0}"
   ]
  },
  {
   "cell_type": "markdown",
   "metadata": {
    "id": "nvJV4pdb4m4s",
    "colab_type": "text"
   },
   "source": [
    "### Save JSON to Disk for Uploading to Defect Turker"
   ]
  },
  {
   "cell_type": "code",
   "execution_count": 0,
   "metadata": {
    "id": "qjaEgmrQ4jMd",
    "colab_type": "code",
    "colab": {}
   },
   "outputs": [],
   "source": [
    "with open('extracted_defects.json', 'w') as outfile:\n",
    "    json.dump(file_names_and_sizes, outfile)"
   ]
  },
  {
   "cell_type": "markdown",
   "metadata": {
    "id": "HOufoyhB6ap5",
    "colab_type": "text"
   },
   "source": [
    "# PCB Defect Classification"
   ]
  },
  {
   "cell_type": "markdown",
   "metadata": {
    "id": "e8hs37wj7PcJ",
    "colab_type": "text"
   },
   "source": [
    "##Install FASTAI"
   ]
  },
  {
   "cell_type": "code",
   "execution_count": 0,
   "metadata": {
    "id": "FglMDgmf7P_0",
    "colab_type": "code",
    "colab": {}
   },
   "outputs": [],
   "source": [
    "!pip install http://download.pytorch.org/whl/cpu/torch-1.0.0-cp36-cp36m-linux_x86_64.whl\n",
    "!pip install fastai"
   ]
  },
  {
   "cell_type": "code",
   "execution_count": 0,
   "metadata": {
    "id": "3fOWzm9p7TK2",
    "colab_type": "code",
    "colab": {}
   },
   "outputs": [],
   "source": [
    "from fastai.vision import *"
   ]
  },
  {
   "cell_type": "markdown",
   "metadata": {
    "id": "z7cJF7L97ZF5",
    "colab_type": "text"
   },
   "source": [
    "### Upload labelled data (CSV file)"
   ]
  },
  {
   "cell_type": "code",
   "execution_count": 0,
   "metadata": {
    "id": "RpFQ582j7Vl9",
    "colab_type": "code",
    "colab": {}
   },
   "outputs": [],
   "source": [
    "from google.colab import files\n",
    "files.upload()"
   ]
  },
  {
   "cell_type": "markdown",
   "metadata": {
    "id": "CGahGJXKYN5Z",
    "colab_type": "text"
   },
   "source": [
    "### Convert labelled data CSV to dataframe"
   ]
  },
  {
   "cell_type": "code",
   "execution_count": 0,
   "metadata": {
    "id": "bWi2WGkpYRP5",
    "colab_type": "code",
    "colab": {}
   },
   "outputs": [],
   "source": [
    "image_labels_frame = csv_to_dataframe(**{\n",
    "    \"path_to_csv\" : \"image_labels.csv\"\n",
    "})"
   ]
  },
  {
   "cell_type": "markdown",
   "metadata": {
    "id": "AAVuBBVLYzwf",
    "colab_type": "text"
   },
   "source": [
    "### Check Class Balance"
   ]
  },
  {
   "cell_type": "code",
   "execution_count": 0,
   "metadata": {
    "id": "9LypSgmHYbVn",
    "colab_type": "code",
    "colab": {}
   },
   "outputs": [],
   "source": [
    "labelled_counts = get_feature_counts(**{\n",
    "    \"data_frame\" : image_labels_frame, \n",
    "    \"feature\" : \"label\"\n",
    "})"
   ]
  },
  {
   "cell_type": "code",
   "execution_count": 0,
   "metadata": {
    "id": "83ap0Nc_ZRE9",
    "colab_type": "code",
    "outputId": "560adbba-e4ec-4875-f19d-caf605f9de0d",
    "colab": {
     "base_uri": "https://localhost:8080/",
     "height": 363.0
    }
   },
   "outputs": [
    {
     "data": {
      "image/png": "[encoded data removed]",
      "text/plain": [
       "<Figure size 1008x288 with 1 Axes>"
      ]
     },
     "metadata": {
      "tags": []
     },
     "output_type": "display_data"
    }
   ],
   "source": [
    "import matplotlib.pyplot as plt\n",
    "from pylab import rcParams\n",
    "rcParams['figure.figsize'] = 14, 4\n",
    "rcParams['text.color'] = \"white\"\n",
    "rcParams['axes.labelcolor'] = \"white\"\n",
    "rcParams['xtick.color'] = \"white\"\n",
    "rcParams['ytick.color'] = \"white\"\n",
    "\n",
    "index = np.arange(len(labelled_counts.keys()))\n",
    "plt.bar(index, list(labelled_counts.values()))\n",
    "plt.xlabel('Defect Type', fontsize=10)\n",
    "plt.ylabel('Count', fontsize=10)\n",
    "plt.xticks(index, labelled_counts.keys(), fontsize=5, rotation=30)\n",
    "plt.xticks(fontsize=16)\n",
    "plt.yticks(fontsize=16)\n",
    "plt.title('Defect Class Balance')\n",
    "plt.show()"
   ]
  },
  {
   "cell_type": "markdown",
   "metadata": {
    "id": "EQj7Xd8yJblP",
    "colab_type": "text"
   },
   "source": [
    "### Create new directory for training CSVs"
   ]
  },
  {
   "cell_type": "code",
   "execution_count": 0,
   "metadata": {
    "id": "l-4fsa-uJmxu",
    "colab_type": "code",
    "colab": {}
   },
   "outputs": [],
   "source": [
    "directory(**{\n",
    "    \"choice\" : \"make\",\n",
    "    \"directory_path\" : \"training_csvs\"\n",
    "})"
   ]
  },
  {
   "cell_type": "markdown",
   "metadata": {
    "id": "SIRY-UlUTEab",
    "colab_type": "text"
   },
   "source": [
    "### Create individual CSV files for each CLASS"
   ]
  },
  {
   "cell_type": "code",
   "execution_count": 0,
   "metadata": {
    "id": "Ei7bXwa4TQhI",
    "colab_type": "code",
    "colab": {}
   },
   "outputs": [],
   "source": [
    "spur = []\n",
    "short = []\n",
    "spurious = []\n",
    "not_defect = []\n",
    "for index, row in image_labels_frame.iterrows():\n",
    "  if(row[1] == 'spur'):\n",
    "    spur.append(row[0])\n",
    "  if(row[1] == 'short'):\n",
    "    short.append(row[0])\n",
    "  if(row[1] == 'spurious copper'):\n",
    "    spurious.append(row[0])\n",
    "  if(row[1] == 'NOT'):\n",
    "    not_defect.append(row[0])"
   ]
  },
  {
   "cell_type": "code",
   "execution_count": 0,
   "metadata": {
    "id": "D6Rk1QBLUWuM",
    "colab_type": "code",
    "colab": {}
   },
   "outputs": [],
   "source": [
    "df_spur = pd.DataFrame(spur)\n",
    "df_spur.to_csv(\"spur.csv\", sep=',',index=False)\n",
    "\n",
    "df_short = pd.DataFrame(short)\n",
    "df_short.to_csv(\"short.csv\", sep=',',index=False)\n",
    "\n",
    "df_spurious = pd.DataFrame(spurious)\n",
    "df_spurious.to_csv(\"spurious.csv\", sep=',',index=False)\n",
    "\n",
    "df_not_defect = pd.DataFrame(not_defect)\n",
    "df_not_defect.to_csv(\"not_defect.csv\", sep=',',index=False)"
   ]
  },
  {
   "cell_type": "markdown",
   "metadata": {
    "id": "bBtnkplGUz-N",
    "colab_type": "text"
   },
   "source": [
    "### Create Directories for CSV files (needed for FastAI)"
   ]
  },
  {
   "cell_type": "code",
   "execution_count": 0,
   "metadata": {
    "id": "WH2lSp12Ubg_",
    "colab_type": "code",
    "colab": {}
   },
   "outputs": [],
   "source": [
    "for folder in ['short', 'spur', 'spurious', 'not_defect']:\n",
    "    directory(**{\n",
    "        \"choice\" : \"make\",\n",
    "        \"directory_path\" : \"training_csvs/\" + folder\n",
    "    })"
   ]
  },
  {
   "cell_type": "markdown",
   "metadata": {
    "id": "woC6WRnMXEDB",
    "colab_type": "text"
   },
   "source": [
    "### Move CSV files to all_extracts directory"
   ]
  },
  {
   "cell_type": "code",
   "execution_count": 0,
   "metadata": {
    "id": "sbFTVFFzVD6a",
    "colab_type": "code",
    "colab": {}
   },
   "outputs": [],
   "source": [
    "move_files(**{\n",
    "    \"file_paths\" : [\"short.csv\", \"spur.csv\", \"spurious.csv\", \"not_defect.csv\"],\n",
    "    \"target_directory\" : \"training_csvs/\"\n",
    "})"
   ]
  },
  {
   "cell_type": "markdown",
   "metadata": {
    "id": "-T4g8QoSDq6B",
    "colab_type": "text"
   },
   "source": [
    "### Remove extracted_defects.zip and upload the extracted_defects.zip used for labelling with the Defect Turker (while these may often be the same file, if you restarted this pipeline this will not be the case. Uploading is the safest)."
   ]
  },
  {
   "cell_type": "code",
   "execution_count": 0,
   "metadata": {
    "id": "0D_aKF0zEELd",
    "colab_type": "code",
    "colab": {}
   },
   "outputs": [],
   "source": [
    "!rm extracted_defects.zip"
   ]
  },
  {
   "cell_type": "code",
   "execution_count": 0,
   "metadata": {
    "id": "n0b2rBxuEN5R",
    "colab_type": "code",
    "colab": {}
   },
   "outputs": [],
   "source": [
    "# upload extracted_defects.zip used for Defect Turker\n",
    "files.upload()"
   ]
  },
  {
   "cell_type": "markdown",
   "metadata": {
    "id": "RNqwsRdc-SG3",
    "colab_type": "text"
   },
   "source": [
    "### Move extracted_defects.zip into the training_csvs folder:"
   ]
  },
  {
   "cell_type": "code",
   "execution_count": 0,
   "metadata": {
    "id": "qSVsjqvlITjm",
    "colab_type": "code",
    "colab": {}
   },
   "outputs": [],
   "source": [
    "move_files(**{\n",
    "    \"file_paths\" : [\"extracted_defects.zip\"],\n",
    "    \"target_directory\" : \"training_csvs\"\n",
    "})"
   ]
  },
  {
   "cell_type": "markdown",
   "metadata": {
    "id": "f7h9Js4y-kNw",
    "colab_type": "text"
   },
   "source": [
    "### Extract all images from extracted_defects.zip into the training_csvs folder:"
   ]
  },
  {
   "cell_type": "code",
   "execution_count": 0,
   "metadata": {
    "id": "J90_w7YkKmrV",
    "colab_type": "code",
    "colab": {}
   },
   "outputs": [],
   "source": [
    "import zipfile\n",
    "with zipfile.ZipFile(\"training_csvs/extracted_defects.zip\", 'r') as zip_ref:\n",
    "    zip_ref.extractall(\"training_csvs/\")"
   ]
  },
  {
   "cell_type": "markdown",
   "metadata": {
    "id": "mJrFSnVG-u0v",
    "colab_type": "text"
   },
   "source": [
    "### Move all extracted defect images into their proper training folder, using the image_labels.csv data:"
   ]
  },
  {
   "cell_type": "code",
   "execution_count": 0,
   "metadata": {
    "id": "0If6PjDXWSeB",
    "colab_type": "code",
    "colab": {}
   },
   "outputs": [],
   "source": [
    "path = \"training_csvs/\"\n",
    "path_to_extracts = \"training_csvs/content/all_extracts/\"\n",
    "\n",
    "for index, row in df_spur.iterrows():    \n",
    "    from_path = path_to_extracts + row[0]\n",
    "    to_path = path + \"/spur/\" + row[0]\n",
    "    move_files(**{\n",
    "        \"file_paths\" : [from_path],\n",
    "        \"target_directory\" : to_path\n",
    "    })\n",
    "    \n",
    "for index, row in df_short.iterrows():    \n",
    "    from_path = path_to_extracts + row[0]\n",
    "    to_path = path + \"/short/\" + row[0]\n",
    "    move_files(**{\n",
    "        \"file_paths\" : [from_path],\n",
    "        \"target_directory\" : to_path\n",
    "    })\n",
    "    \n",
    "for index, row in df_spurious.iterrows():    \n",
    "    from_path = path_to_extracts + row[0]\n",
    "    to_path = path + \"/spurious/\" + row[0]\n",
    "    move_files(**{\n",
    "        \"file_paths\" : [from_path],\n",
    "        \"target_directory\" : to_path\n",
    "    })\n",
    "\n",
    "for index, row in df_not_defect.iterrows():    \n",
    "    from_path = path_to_extracts + row[0]\n",
    "    to_path = path + \"/not_defect/\" + row[0]\n",
    "    move_files(**{\n",
    "        \"file_paths\" : [from_path],\n",
    "        \"target_directory\" : to_path\n",
    "    })"
   ]
  },
  {
   "cell_type": "markdown",
   "metadata": {
    "id": "EWn2TU-a_YWn",
    "colab_type": "text"
   },
   "source": [
    "### Remove any remaining PNG files (defect images) that were not labelled:"
   ]
  },
  {
   "cell_type": "code",
   "execution_count": 0,
   "metadata": {
    "id": "WkpLZCyTcivm",
    "colab_type": "code",
    "colab": {}
   },
   "outputs": [],
   "source": [
    "directory(**{\n",
    "    \"choice\" : \"remove\",\n",
    "    \"directory_path\" : \"training_csvs/content\",\n",
    "    \"force\" : True\n",
    "})"
   ]
  },
  {
   "cell_type": "markdown",
   "metadata": {
    "id": "Z77yWF76YY6h",
    "colab_type": "text"
   },
   "source": [
    "### Read in image data"
   ]
  },
  {
   "cell_type": "code",
   "execution_count": 0,
   "metadata": {
    "id": "QLhMnT8vWSit",
    "colab_type": "code",
    "colab": {}
   },
   "outputs": [],
   "source": [
    "np.random.seed(42)\n",
    "data = ImageDataBunch.from_folder(path, train='.', valid_pct=0.2, ds_tfms=get_transforms(), size=224, num_workers=4, bs=10).normalize(imagenet_stats)"
   ]
  },
  {
   "cell_type": "markdown",
   "metadata": {
    "id": "Uz7QLQ-6YuOW",
    "colab_type": "text"
   },
   "source": [
    "### Inspect Images to Confirm Read Properly"
   ]
  },
  {
   "cell_type": "code",
   "execution_count": 0,
   "metadata": {
    "id": "tiWDeTlIYcls",
    "colab_type": "code",
    "outputId": "5b021e83-7bcc-4e8c-92a0-2830424f2687",
    "colab": {
     "base_uri": "https://localhost:8080/",
     "height": 585.0
    }
   },
   "outputs": [
    {
     "data": {
      "image/png": "[encoded data removed]",
      "text/plain": [
       "<Figure size 504x576 with 16 Axes>"
      ]
     },
     "metadata": {
      "tags": []
     },
     "output_type": "display_data"
    }
   ],
   "source": [
    "data.show_batch(rows=4, figsize=(7, 8))"
   ]
  },
  {
   "cell_type": "markdown",
   "metadata": {
    "id": "F0SSe0z9ZBqg",
    "colab_type": "text"
   },
   "source": [
    "### Train Model"
   ]
  },
  {
   "cell_type": "code",
   "execution_count": 0,
   "metadata": {
    "id": "Hd7VRLARYxS_",
    "colab_type": "code",
    "colab": {}
   },
   "outputs": [],
   "source": [
    "from fastai.metrics import error_rate # 1 - accuracy\n",
    "learn = create_cnn(data, models.resnet34, metrics=error_rate)"
   ]
  },
  {
   "cell_type": "markdown",
   "metadata": {
    "id": "oKuw5nRqZK8B",
    "colab_type": "text"
   },
   "source": [
    "### Use fit_one_cycle to change the learning rate over time (use GPU)"
   ]
  },
  {
   "cell_type": "code",
   "execution_count": 0,
   "metadata": {
    "id": "ekqcFJvrZD9d",
    "colab_type": "code",
    "outputId": "c6610d02-34c9-45db-aa44-9e2d0c528b1b",
    "colab": {
     "base_uri": "https://localhost:8080/",
     "height": 359.0
    }
   },
   "outputs": [
    {
     "data": {
      "text/html": [
       "<table border=\"1\" class=\"dataframe\">\n",
       "  <thead>\n",
       "    <tr style=\"text-align: left;\">\n",
       "      <th>epoch</th>\n",
       "      <th>train_loss</th>\n",
       "      <th>valid_loss</th>\n",
       "      <th>error_rate</th>\n",
       "      <th>time</th>\n",
       "    </tr>\n",
       "  </thead>\n",
       "  <tbody>\n",
       "    <tr>\n",
       "      <td>0</td>\n",
       "      <td>0.956796</td>\n",
       "      <td>0.433753</td>\n",
       "      <td>0.168459</td>\n",
       "      <td>06:30</td>\n",
       "    </tr>\n",
       "    <tr>\n",
       "      <td>1</td>\n",
       "      <td>0.603626</td>\n",
       "      <td>0.285788</td>\n",
       "      <td>0.107527</td>\n",
       "      <td>06:09</td>\n",
       "    </tr>\n",
       "    <tr>\n",
       "      <td>2</td>\n",
       "      <td>0.410262</td>\n",
       "      <td>0.224363</td>\n",
       "      <td>0.082437</td>\n",
       "      <td>05:59</td>\n",
       "    </tr>\n",
       "    <tr>\n",
       "      <td>3</td>\n",
       "      <td>0.371567</td>\n",
       "      <td>0.180483</td>\n",
       "      <td>0.053763</td>\n",
       "      <td>05:56</td>\n",
       "    </tr>\n",
       "    <tr>\n",
       "      <td>4</td>\n",
       "      <td>0.278483</td>\n",
       "      <td>0.248795</td>\n",
       "      <td>0.103943</td>\n",
       "      <td>05:47</td>\n",
       "    </tr>\n",
       "    <tr>\n",
       "      <td>5</td>\n",
       "      <td>0.319314</td>\n",
       "      <td>0.149906</td>\n",
       "      <td>0.046595</td>\n",
       "      <td>05:47</td>\n",
       "    </tr>\n",
       "    <tr>\n",
       "      <td>6</td>\n",
       "      <td>0.242797</td>\n",
       "      <td>0.132371</td>\n",
       "      <td>0.046595</td>\n",
       "      <td>05:47</td>\n",
       "    </tr>\n",
       "    <tr>\n",
       "      <td>7</td>\n",
       "      <td>0.244430</td>\n",
       "      <td>0.148013</td>\n",
       "      <td>0.046595</td>\n",
       "      <td>05:49</td>\n",
       "    </tr>\n",
       "    <tr>\n",
       "      <td>8</td>\n",
       "      <td>0.210949</td>\n",
       "      <td>0.119765</td>\n",
       "      <td>0.035842</td>\n",
       "      <td>05:49</td>\n",
       "    </tr>\n",
       "    <tr>\n",
       "      <td>9</td>\n",
       "      <td>0.167252</td>\n",
       "      <td>0.114283</td>\n",
       "      <td>0.039427</td>\n",
       "      <td>05:48</td>\n",
       "    </tr>\n",
       "  </tbody>\n",
       "</table>"
      ],
      "text/plain": [
       "<IPython.core.display.HTML object>"
      ]
     },
     "metadata": {
      "tags": []
     },
     "output_type": "execute_result"
    }
   ],
   "source": [
    "defaults.device = torch.device('cuda')\n",
    "learn.fit_one_cycle(10)"
   ]
  },
  {
   "cell_type": "markdown",
   "metadata": {
    "id": "u5ldWYDZh6wA",
    "colab_type": "text"
   },
   "source": [
    "### Find better learning rates using lr_find, and use recorder.plot to create a plot that relates the learning rate with the loss."
   ]
  },
  {
   "cell_type": "code",
   "execution_count": 0,
   "metadata": {
    "id": "Cvytmtx7h7Qz",
    "colab_type": "code",
    "outputId": "8b7e9a0a-056c-446a-b88e-0f4ef73e6eb6",
    "colab": {
     "base_uri": "https://localhost:8080/",
     "height": 112.0
    }
   },
   "outputs": [
    {
     "data": {
      "text/html": [
       "\n",
       "    <div>\n",
       "        <style>\n",
       "            /* Turns off some styling */\n",
       "            progress {\n",
       "                /* gets rid of default border in Firefox and Opera. */\n",
       "                border: none;\n",
       "                /* Needs to be in here for Safari polyfill so background images work as expected. */\n",
       "                background-size: auto;\n",
       "            }\n",
       "            .progress-bar-interrupted, .progress-bar-interrupted::-webkit-progress-bar {\n",
       "                background: #F44336;\n",
       "            }\n",
       "        </style>\n",
       "      <progress value='0' class='' max='1', style='width:300px; height:20px; vertical-align: middle;'></progress>\n",
       "      0.00% [0/1 00:00<00:00]\n",
       "    </div>\n",
       "    \n",
       "<table border=\"1\" class=\"dataframe\">\n",
       "  <thead>\n",
       "    <tr style=\"text-align: left;\">\n",
       "      <th>epoch</th>\n",
       "      <th>train_loss</th>\n",
       "      <th>valid_loss</th>\n",
       "      <th>error_rate</th>\n",
       "      <th>time</th>\n",
       "    </tr>\n",
       "  </thead>\n",
       "  <tbody>\n",
       "  </tbody>\n",
       "</table><p>\n",
       "\n",
       "    <div>\n",
       "        <style>\n",
       "            /* Turns off some styling */\n",
       "            progress {\n",
       "                /* gets rid of default border in Firefox and Opera. */\n",
       "                border: none;\n",
       "                /* Needs to be in here for Safari polyfill so background images work as expected. */\n",
       "                background-size: auto;\n",
       "            }\n",
       "            .progress-bar-interrupted, .progress-bar-interrupted::-webkit-progress-bar {\n",
       "                background: #F44336;\n",
       "            }\n",
       "        </style>\n",
       "      <progress value='70' class='' max='111', style='width:300px; height:20px; vertical-align: middle;'></progress>\n",
       "      63.06% [70/111 05:19<03:06 0.8192]\n",
       "    </div>\n",
       "    "
      ],
      "text/plain": [
       "<IPython.core.display.HTML object>"
      ]
     },
     "metadata": {
      "tags": []
     },
     "output_type": "execute_result"
    },
    {
     "name": "stdout",
     "output_type": "stream",
     "text": [
      "LR Finder is complete, type {learner_name}.recorder.plot() to see the graph.\n"
     ]
    }
   ],
   "source": [
    "learn.unfreeze()\n",
    "learn.lr_find()"
   ]
  },
  {
   "cell_type": "code",
   "execution_count": 0,
   "metadata": {
    "id": "nfSO8NRwZJuy",
    "colab_type": "code",
    "outputId": "e40e5e7a-b87d-41db-8577-8075a6c65a4c",
    "colab": {
     "base_uri": "https://localhost:8080/",
     "height": 279.0
    }
   },
   "outputs": [
    {
     "data": {
      "image/png": "[encoded data removed]",
      "text/plain": [
       "<Figure size 1008x288 with 1 Axes>"
      ]
     },
     "metadata": {
      "tags": []
     },
     "output_type": "display_data"
    }
   ],
   "source": [
    "learn.recorder.plot()"
   ]
  },
  {
   "cell_type": "markdown",
   "metadata": {
    "id": "4nKRkMwqiNii",
    "colab_type": "text"
   },
   "source": [
    "### Train the model using differential learning rates by passing the max_lr argument to the fit_one_cycle method."
   ]
  },
  {
   "cell_type": "code",
   "execution_count": 0,
   "metadata": {
    "id": "VN4CcWITiOuo",
    "colab_type": "code",
    "outputId": "fa7e2b5c-96bf-41b8-85e1-f6c7bfb1a4b9",
    "colab": {
     "base_uri": "https://localhost:8080/",
     "height": 173.0
    }
   },
   "outputs": [
    {
     "data": {
      "text/html": [
       "<table border=\"1\" class=\"dataframe\">\n",
       "  <thead>\n",
       "    <tr style=\"text-align: left;\">\n",
       "      <th>epoch</th>\n",
       "      <th>train_loss</th>\n",
       "      <th>valid_loss</th>\n",
       "      <th>error_rate</th>\n",
       "      <th>time</th>\n",
       "    </tr>\n",
       "  </thead>\n",
       "  <tbody>\n",
       "    <tr>\n",
       "      <td>0</td>\n",
       "      <td>0.184295</td>\n",
       "      <td>0.126775</td>\n",
       "      <td>0.039427</td>\n",
       "      <td>09:12</td>\n",
       "    </tr>\n",
       "    <tr>\n",
       "      <td>1</td>\n",
       "      <td>0.276375</td>\n",
       "      <td>0.147388</td>\n",
       "      <td>0.046595</td>\n",
       "      <td>09:12</td>\n",
       "    </tr>\n",
       "    <tr>\n",
       "      <td>2</td>\n",
       "      <td>0.160508</td>\n",
       "      <td>0.054374</td>\n",
       "      <td>0.010753</td>\n",
       "      <td>09:10</td>\n",
       "    </tr>\n",
       "    <tr>\n",
       "      <td>3</td>\n",
       "      <td>0.087525</td>\n",
       "      <td>0.052762</td>\n",
       "      <td>0.014337</td>\n",
       "      <td>08:51</td>\n",
       "    </tr>\n",
       "  </tbody>\n",
       "</table>"
      ],
      "text/plain": [
       "<IPython.core.display.HTML object>"
      ]
     },
     "metadata": {
      "tags": []
     },
     "output_type": "execute_result"
    }
   ],
   "source": [
    "learn.fit_one_cycle(4, max_lr=slice(3e-5, 3e-4))"
   ]
  },
  {
   "cell_type": "markdown",
   "metadata": {
    "id": "dlSjdH7AqhrL",
    "colab_type": "text"
   },
   "source": [
    "### SAVE the model for inference"
   ]
  },
  {
   "cell_type": "code",
   "execution_count": 0,
   "metadata": {
    "id": "RwRHNd6pkM5j",
    "colab_type": "code",
    "colab": {}
   },
   "outputs": [],
   "source": [
    "learn.save('defect_classifier')"
   ]
  },
  {
   "cell_type": "markdown",
   "metadata": {
    "id": "Cr4JeHqfq0vs",
    "colab_type": "text"
   },
   "source": [
    "### Export Model"
   ]
  },
  {
   "cell_type": "code",
   "execution_count": 0,
   "metadata": {
    "id": "e08nDbGIqk7M",
    "colab_type": "code",
    "colab": {}
   },
   "outputs": [],
   "source": [
    "learn.load('defect_classifier')\n",
    "learn.export('defect_classifier.pkl')"
   ]
  },
  {
   "cell_type": "markdown",
   "metadata": {
    "id": "4ho3E_gfrSsM",
    "colab_type": "text"
   },
   "source": [
    "### Examine Confusion Matrix"
   ]
  },
  {
   "cell_type": "code",
   "execution_count": 0,
   "metadata": {
    "id": "XTxLPmN_q2Zv",
    "colab_type": "code",
    "outputId": "03119e79-335c-49f1-92ec-278fc5bb9f4a",
    "colab": {
     "base_uri": "https://localhost:8080/",
     "height": 455.0
    }
   },
   "outputs": [
    {
     "data": {
      "text/html": [
       ""
      ],
      "text/plain": [
       "<IPython.core.display.HTML object>"
      ]
     },
     "metadata": {
      "tags": []
     },
     "output_type": "execute_result"
    },
    {
     "data": {
      "image/png": "[encoded data removed]",
      "text/plain": [
       "<Figure size 432x432 with 1 Axes>"
      ]
     },
     "metadata": {
      "tags": []
     },
     "output_type": "display_data"
    }
   ],
   "source": [
    "interp = ClassificationInterpretation.from_learner(learn)\n",
    "interp.plot_confusion_matrix(figsize=(6,6))"
   ]
  },
  {
   "cell_type": "markdown",
   "metadata": {
    "id": "qq1x1b0P_xEJ",
    "colab_type": "text"
   },
   "source": [
    "### Create JSON file with new boards filenames"
   ]
  },
  {
   "cell_type": "code",
   "execution_count": 0,
   "metadata": {
    "id": "n4wWRPCSAEkZ",
    "colab_type": "code",
    "colab": {}
   },
   "outputs": [],
   "source": [
    "test_temps = {}\n",
    "file_names = os.listdir('hold_out')\n",
    "\n",
    "for index, file in enumerate(file_names):\n",
    "  if \"test\" in file:\n",
    "      test_temps[file_names[index]] = os.path.getsize('hold_out/' + file)"
   ]
  },
  {
   "cell_type": "code",
   "execution_count": 0,
   "metadata": {
    "id": "wxyfHLZtAYJq",
    "colab_type": "code",
    "colab": {}
   },
   "outputs": [],
   "source": [
    "with open('test_temps.json', 'w') as outfile:\n",
    "    json.dump(test_temps, outfile)"
   ]
  },
  {
   "cell_type": "markdown",
   "metadata": {
    "id": "w9TdSYUks73m",
    "colab_type": "text"
   },
   "source": [
    "### Download hold out images to use with PCB Defect Classifier"
   ]
  },
  {
   "cell_type": "code",
   "execution_count": 0,
   "metadata": {
    "id": "aEuWa32Qs7FA",
    "colab_type": "code",
    "colab": {}
   },
   "outputs": [],
   "source": [
    "# remove any files that are not JPG\n",
    "!find hold_out -type f ! -name '*.jpg' -delete\n",
    "\n",
    "zip_files_in_directory(**{\n",
    "    \"directory\" : \"hold_out/\",\n",
    "    \"zip_filename\" : \"hold_out.zip\"\n",
    "})"
   ]
  }
 ],
 "metadata": {
  "colab": {
   "name": "PCB Defect Extraction and Classification.ipynb",
   "provenance": [],
   "collapsed_sections": []
  },
  "kernelspec": {
   "name": "python3",
   "display_name": "Python 3"
  },
  "accelerator": "GPU"
 },
 "nbformat": 4,
 "nbformat_minor": 0
}